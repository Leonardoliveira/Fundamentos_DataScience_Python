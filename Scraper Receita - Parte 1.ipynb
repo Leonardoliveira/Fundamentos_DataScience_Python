{
 "cells": [
  {
   "cell_type": "markdown",
   "metadata": {},
   "source": [
    "# Introdução Web Scraper"
   ]
  },
  {
   "cell_type": "markdown",
   "metadata": {},
   "source": [
    "Instalando biblioteca"
   ]
  },
  {
   "cell_type": "code",
   "execution_count": 5,
   "metadata": {},
   "outputs": [
    {
     "name": "stdout",
     "output_type": "stream",
     "text": [
      "Requirement already satisfied: bs4 in c:\\users\\fic\\appdata\\local\\continuum\\anaconda3\\lib\\site-packages (0.0.1)\n",
      "Requirement already satisfied: beautifulsoup4 in c:\\users\\fic\\appdata\\local\\continuum\\anaconda3\\lib\\site-packages (from bs4) (4.8.0)\n",
      "Requirement already satisfied: soupsieve>=1.2 in c:\\users\\fic\\appdata\\local\\continuum\\anaconda3\\lib\\site-packages (from beautifulsoup4->bs4) (1.9.3)\n",
      "Note: you may need to restart the kernel to use updated packages.\n"
     ]
    }
   ],
   "source": [
    "pip install bs4"
   ]
  },
  {
   "cell_type": "markdown",
   "metadata": {},
   "source": [
    "Instalando biblioteca"
   ]
  },
  {
   "cell_type": "code",
   "execution_count": 1,
   "metadata": {},
   "outputs": [
    {
     "name": "stdout",
     "output_type": "stream",
     "text": [
      "Requirement already satisfied: requests in c:\\users\\fic\\appdata\\local\\continuum\\anaconda3\\lib\\site-packages (2.22.0)\n",
      "Requirement already satisfied: chardet<3.1.0,>=3.0.2 in c:\\users\\fic\\appdata\\local\\continuum\\anaconda3\\lib\\site-packages (from requests) (3.0.4)\n",
      "Requirement already satisfied: urllib3!=1.25.0,!=1.25.1,<1.26,>=1.21.1 in c:\\users\\fic\\appdata\\local\\continuum\\anaconda3\\lib\\site-packages (from requests) (1.24.2)\n",
      "Requirement already satisfied: idna<2.9,>=2.5 in c:\\users\\fic\\appdata\\local\\continuum\\anaconda3\\lib\\site-packages (from requests) (2.8)\n",
      "Requirement already satisfied: certifi>=2017.4.17 in c:\\users\\fic\\appdata\\local\\continuum\\anaconda3\\lib\\site-packages (from requests) (2019.9.11)\n",
      "Note: you may need to restart the kernel to use updated packages.\n"
     ]
    }
   ],
   "source": [
    "pip install requests"
   ]
  },
  {
   "cell_type": "code",
   "execution_count": 2,
   "metadata": {},
   "outputs": [
    {
     "name": "stdout",
     "output_type": "stream",
     "text": [
      "200\n"
     ]
    }
   ],
   "source": [
    "import requests ##para trabalhar com web\n",
    "import re ##regex\n",
    "import json ##converte arquivos para json\n",
    "from bs4 import BeautifulSoup ##raspador\n",
    "\n",
    "import os ##trabalhar com o sistema\n",
    "\n",
    "result = requests.get('https://web.archive.org/web/20150509052503/http://allrecipes.com.br/receita/3575/brigadeiro-de-colher.aspx?o_ln=RecViewed_Link_2&o_is=RecentlyViewed')\n",
    "\n",
    "print(result.status_code) ##se tiver status code 200 a pagina está ok, se for 4O4, não encontrada, se for 403 o servidor não aceitou o raspador"
   ]
  },
  {
   "cell_type": "code",
   "execution_count": 6,
   "metadata": {},
   "outputs": [],
   "source": [
    "src = result.content"
   ]
  },
  {
   "cell_type": "code",
   "execution_count": 7,
   "metadata": {},
   "outputs": [],
   "source": [
    "soup = BeautifulSoup(src, 'lxml')"
   ]
  },
  {
   "cell_type": "code",
   "execution_count": 8,
   "metadata": {},
   "outputs": [
    {
     "data": {
      "text/plain": [
       "'Brigadeiro de colher'"
      ]
     },
     "execution_count": 8,
     "metadata": {},
     "output_type": "execute_result"
    }
   ],
   "source": [
    "nome_receita = soup.find('div').find_all(\"span\", {'itemprop':'name'})\n",
    "#ingredients soup.find('div').find_all(\"span\", {'itemprop':'name'})= soup.(\".recipeIngredients\").find_all('section')\n",
    "for a in nome_receita:\n",
    "    nome_receita = a.text\n",
    "nome_receita"
   ]
  },
  {
   "cell_type": "code",
   "execution_count": 12,
   "metadata": {},
   "outputs": [],
   "source": [
    "descricao = soup.find('div').find_all(\"span\", {'itemprop':\"description\"})\n",
    "#ingredients = soup.(\".recipeIngredients\").find_all('section')\n",
    "for a in descricao:\n",
    "    descricao = a.text"
   ]
  },
  {
   "cell_type": "code",
   "execution_count": 14,
   "metadata": {},
   "outputs": [],
   "source": [
    "ingredients = soup.find('div').find_all(\"span\", {'itemprop':'ingredients'})\n"
   ]
  },
  {
   "cell_type": "code",
   "execution_count": 15,
   "metadata": {},
   "outputs": [
    {
     "name": "stdout",
     "output_type": "stream",
     "text": [
      "\n",
      "Em uma panela pequena, leve ao fogo o leite condensado junto com o chocolate.\n",
      "Deixe cozinhar até obter a consistência de brigadeiro mole(aproximadamente 8 minutos), mexendo sempre para não queimar.\n",
      "Desligue o fogo e acrescente o creme de leite e misture bem, distribua em pequenos copos descartáveis e decore com o granulado.\n",
      "\n"
     ]
    }
   ],
   "source": [
    "receita = soup.find('div').find_all(\"ol\", {'itemprop':'recipeInstructions'})\n",
    "for a in receita:\n",
    "    receita = a.text\n",
    "print(receita)"
   ]
  },
  {
   "cell_type": "code",
   "execution_count": 20,
   "metadata": {},
   "outputs": [],
   "source": [
    "##Convertendo o script em um dict\n",
    "receita_dict = {'ID': 1,\n",
    "       'Titulo': nome_receita,\n",
    "       'Descrição': descricao,\n",
    "       'Ingredientes': ingredients,\n",
    "       'Receita': receita}\n"
   ]
  },
  {
   "cell_type": "code",
   "execution_count": 17,
   "metadata": {},
   "outputs": [
    {
     "name": "stdout",
     "output_type": "stream",
     "text": [
      "Collecting pyttsx3\n",
      "  Downloading https://files.pythonhosted.org/packages/b7/c3/7317dafc544a4de539f729dd494410f7e095fb72db85ef16269f5e7403f7/pyttsx3-2.81-py3-none-any.whl\n",
      "Collecting pypiwin32\n",
      "  Downloading https://files.pythonhosted.org/packages/d0/1b/2f292bbd742e369a100c91faa0483172cd91a1a422a6692055ac920946c5/pypiwin32-223-py3-none-any.whl\n",
      "Requirement already satisfied: comtypes; \"win32\" in sys_platform in c:\\users\\fic\\appdata\\local\\continuum\\anaconda3\\lib\\site-packages (from pyttsx3) (1.1.7)\n",
      "Requirement already satisfied: pywin32>=223 in c:\\users\\fic\\appdata\\local\\continuum\\anaconda3\\lib\\site-packages (from pypiwin32) (223)\n",
      "Installing collected packages: pyttsx3, pypiwin32\n",
      "Successfully installed pypiwin32-223 pyttsx3-2.81\n",
      "Note: you may need to restart the kernel to use updated packages.\n"
     ]
    }
   ],
   "source": [
    "pip install pyttsx3 pypiwin32"
   ]
  },
  {
   "cell_type": "code",
   "execution_count": 19,
   "metadata": {},
   "outputs": [],
   "source": [
    "#pip install pyttsx3\n",
    "# pip install pyttsx3 pypiwin32\n",
    "import pyttsx3\n",
    "\n",
    "# One time initialization\n",
    "engine = pyttsx3.init()"
   ]
  },
  {
   "cell_type": "code",
   "execution_count": 21,
   "metadata": {},
   "outputs": [],
   "source": [
    "# Queue up things to say.\n",
    "# There will be a short break between each one\n",
    "# when spoken, like a pause between sentences.\n",
    "engine.say(receita_dict['Ingredientes'])\n",
    "#engine.say(\"You can queue up multiple items\")\n",
    "\n",
    "engine.runAndWait()\n",
    "\n",
    "def ferramenta_receitas(endereco, ditar = False):\n",
    "    result = requests.get(endereco)\n",
    "    if result.status_code == 200:\n",
    "        src = result.content\n",
    "        soup = BeautifulSoup(src, 'lxml')\n",
    "        nome_receita = soup.find('div').find_all(\"span\", {'itemprop':'name'})\n",
    "        for a in nome_receita:\n",
    "            nome_receita = a.text\n",
    "        descricao = soup.find('div').find_all(\"span\", {'itemprop':\"description\"})\n",
    "        for a in descricao:\n",
    "            descricao = a.text\n",
    "        ingredients = soup.find('div').find_all(\"span\", {'itemprop':'ingredients'})\n",
    "        ingredients_list = []\n",
    "        for a in ingredients:\n",
    "            ingredients_list.append(a.text)\n",
    "        receita = soup.find('div').find_all(\"ol\", {'itemprop':'recipeInstructions'})\n",
    "        for a in receita:\n",
    "            receita = a.text\n",
    "        receita_dict = {'ID': 1,\n",
    "       'Titulo': nome_receita,\n",
    "       'Descrição': descricao,\n",
    "       'Ingredientes': ingredients_list,\n",
    "       'Receita': receita}\n",
    "        if ditar == True:\n",
    "            print(receita_dict)\n",
    "            engine = pyttsx3.init()\n",
    "            engine.setProperty('rate', 150)    # Speed percent (can go over 100)\n",
    "            engine.setProperty('volume', 0.9)  # Volume 0-1\n",
    "            engine.say(receita_dict['Titulo'])\n",
    "            engine.say('Descrição')\n",
    "            engine.say(receita_dict['Descrição'])\n",
    "            engine.say('Ingredientes')\n",
    "            engine.say(receita_dict['Ingredientes'])\n",
    "            engine.say('Receita')\n",
    "            engine.say(receita_dict['Receita'])\n",
    "            engine.runAndWait()\n",
    "            return(receita_dict)\n",
    "        else:\n",
    "            return(receita_dict)\n",
    "    else: \n",
    "        print('Página não pode ser raspada')\n",
    "\n"
   ]
  },
  {
   "cell_type": "code",
   "execution_count": null,
   "metadata": {},
   "outputs": [
    {
     "name": "stdout",
     "output_type": "stream",
     "text": [
      "{'ID': 1, 'Titulo': 'Brigadeiro de colher', 'Descrição': 'Brigadeiro servido em copinhos em festas, para se comer de colher. Uma delícia!', 'Ingredientes': ['1 lata de leite condensado', '1/2 tablete de chocolate meio amargo picado', '1 caixa de creme de leite', 'Confeitos ou granulado para decolar'], 'Receita': '\\nEm uma panela pequena, leve ao fogo o leite condensado junto com o chocolate.\\nDeixe cozinhar até obter a consistência de brigadeiro mole(aproximadamente 8 minutos), mexendo sempre para não queimar.\\nDesligue o fogo e acrescente o creme de leite e misture bem, distribua em pequenos copos descartáveis e decore com o granulado.\\n'}\n"
     ]
    }
   ],
   "source": [
    "ferramenta_receitas('https://web.archive.org/web/20150509052503/http://allrecipes.com.br/receita/3575/brigadeiro-de-colher.aspx?o_ln=RecViewed_Link_2&o_is=RecentlyViewed', ditar = True)"
   ]
  },
  {
   "cell_type": "code",
   "execution_count": null,
   "metadata": {},
   "outputs": [],
   "source": []
  }
 ],
 "metadata": {
  "kernelspec": {
   "display_name": "Python 3",
   "language": "python",
   "name": "python3"
  },
  "language_info": {
   "codemirror_mode": {
    "name": "ipython",
    "version": 3
   },
   "file_extension": ".py",
   "mimetype": "text/x-python",
   "name": "python",
   "nbconvert_exporter": "python",
   "pygments_lexer": "ipython3",
   "version": "3.7.4"
  }
 },
 "nbformat": 4,
 "nbformat_minor": 2
}
