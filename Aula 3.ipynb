{
 "cells": [
  {
   "cell_type": "markdown",
   "metadata": {},
   "source": [
    "# Aula 03"
   ]
  },
  {
   "cell_type": "code",
   "execution_count": 9,
   "metadata": {},
   "outputs": [],
   "source": [
    "import statistics"
   ]
  },
  {
   "cell_type": "code",
   "execution_count": 13,
   "metadata": {},
   "outputs": [
    {
     "name": "stdout",
     "output_type": "stream",
     "text": [
      "23\n",
      "39\n"
     ]
    }
   ],
   "source": [
    "#fazendo uma lista\n",
    "#Iniciando em estatística\n",
    "\n",
    "idade = [27, 27, 30, 39,23,35]\n",
    "print(min(idade))\n",
    "print(max(idade))"
   ]
  },
  {
   "cell_type": "code",
   "execution_count": 8,
   "metadata": {},
   "outputs": [
    {
     "data": {
      "text/plain": [
       "553"
      ]
     },
     "execution_count": 8,
     "metadata": {},
     "output_type": "execute_result"
    }
   ],
   "source": [
    "(27+30+39+23+35)/5\n",
    "488 + 65"
   ]
  },
  {
   "cell_type": "code",
   "execution_count": 36,
   "metadata": {},
   "outputs": [
    {
     "name": "stdout",
     "output_type": "stream",
     "text": [
      "30.17.\n",
      "28.5.\n",
      "27.\n"
     ]
    }
   ],
   "source": [
    "media = statistics.mean(idade)\n",
    "mediana = statistics.median(idade)\n",
    "moda = statistics.mode(idade)\n",
    "print(f'{media :.2f}.\\n{mediana}.\\n{moda}.')# Colocar casas decimais em python ':.2f'."
   ]
  },
  {
   "cell_type": "markdown",
   "metadata": {},
   "source": [
    "Dica do professor para mercado financeiro\n",
    "\n",
    "média movel, média harmônica e média simples.\n",
    "Pesquisar sobre metodo monte carlo."
   ]
  },
  {
   "cell_type": "code",
   "execution_count": null,
   "metadata": {},
   "outputs": [],
   "source": []
  }
 ],
 "metadata": {
  "kernelspec": {
   "display_name": "Python 3",
   "language": "python",
   "name": "python3"
  },
  "language_info": {
   "codemirror_mode": {
    "name": "ipython",
    "version": 3
   },
   "file_extension": ".py",
   "mimetype": "text/x-python",
   "name": "python",
   "nbconvert_exporter": "python",
   "pygments_lexer": "ipython3",
   "version": "3.7.4"
  }
 },
 "nbformat": 4,
 "nbformat_minor": 2
}
